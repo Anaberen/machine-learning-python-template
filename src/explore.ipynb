{
    "cells": [
        {
            "cell_type": "code",
            "execution_count": 24,
            "metadata": {},
            "outputs": [
                {
                    "name": "stdout",
                    "output_type": "stream",
                    "text": [
                        "postgresql://gitpod@localhost:5432/example\n"
                    ]
                }
            ],
            "source": [
                "# Your code here\n",
                "\n",
                "\n",
                "import pandas as pd\n",
                "import matplotlib.pyplot as plt\n",
                "import numpy as np\n",
                "from sklearn.impute import KNNImputer\n",
                "\n",
                "#load_dotenv() # cargar variables de entorno desde el archivo env.\n",
                "\n",
                "database_url = os.getenv('DATABASE_URL')\n",
                "print(database_url)\n",
                "\n"
            ]
        },
        {
            "cell_type": "code",
            "execution_count": 25,
            "metadata": {},
            "outputs": [
                {
                    "data": {
                        "text/html": [
                            "<div>\n",
                            "<style scoped>\n",
                            "    .dataframe tbody tr th:only-of-type {\n",
                            "        vertical-align: middle;\n",
                            "    }\n",
                            "\n",
                            "    .dataframe tbody tr th {\n",
                            "        vertical-align: top;\n",
                            "    }\n",
                            "\n",
                            "    .dataframe thead th {\n",
                            "        text-align: right;\n",
                            "    }\n",
                            "</style>\n",
                            "<table border=\"1\" class=\"dataframe\">\n",
                            "  <thead>\n",
                            "    <tr style=\"text-align: right;\">\n",
                            "      <th></th>\n",
                            "      <th>name</th>\n",
                            "      <th>host_id</th>\n",
                            "      <th>host_name</th>\n",
                            "      <th>neighbourhood_group</th>\n",
                            "      <th>neighbourhood</th>\n",
                            "      <th>latitude</th>\n",
                            "      <th>longitude</th>\n",
                            "      <th>room_type</th>\n",
                            "      <th>price</th>\n",
                            "      <th>minimum_nights</th>\n",
                            "      <th>number_of_reviews</th>\n",
                            "      <th>last_review</th>\n",
                            "      <th>reviews_per_month</th>\n",
                            "      <th>calculated_host_listings_count</th>\n",
                            "      <th>availability_365</th>\n",
                            "    </tr>\n",
                            "  </thead>\n",
                            "  <tbody>\n",
                            "    <tr>\n",
                            "      <th>0</th>\n",
                            "      <td>Clean &amp; quiet apt home by the park</td>\n",
                            "      <td>2787</td>\n",
                            "      <td>John</td>\n",
                            "      <td>Brooklyn</td>\n",
                            "      <td>Kensington</td>\n",
                            "      <td>40.64749</td>\n",
                            "      <td>-73.97237</td>\n",
                            "      <td>Private room</td>\n",
                            "      <td>149</td>\n",
                            "      <td>1</td>\n",
                            "      <td>9</td>\n",
                            "      <td>2018-10-19</td>\n",
                            "      <td>0.21</td>\n",
                            "      <td>6</td>\n",
                            "      <td>365</td>\n",
                            "    </tr>\n",
                            "    <tr>\n",
                            "      <th>1</th>\n",
                            "      <td>Skylit Midtown Castle</td>\n",
                            "      <td>2845</td>\n",
                            "      <td>Jennifer</td>\n",
                            "      <td>Manhattan</td>\n",
                            "      <td>Midtown</td>\n",
                            "      <td>40.75362</td>\n",
                            "      <td>-73.98377</td>\n",
                            "      <td>Entire home/apt</td>\n",
                            "      <td>225</td>\n",
                            "      <td>1</td>\n",
                            "      <td>45</td>\n",
                            "      <td>2019-05-21</td>\n",
                            "      <td>0.38</td>\n",
                            "      <td>2</td>\n",
                            "      <td>355</td>\n",
                            "    </tr>\n",
                            "    <tr>\n",
                            "      <th>2</th>\n",
                            "      <td>THE VILLAGE OF HARLEM....NEW YORK !</td>\n",
                            "      <td>4632</td>\n",
                            "      <td>Elisabeth</td>\n",
                            "      <td>Manhattan</td>\n",
                            "      <td>Harlem</td>\n",
                            "      <td>40.80902</td>\n",
                            "      <td>-73.94190</td>\n",
                            "      <td>Private room</td>\n",
                            "      <td>150</td>\n",
                            "      <td>3</td>\n",
                            "      <td>0</td>\n",
                            "      <td>NaN</td>\n",
                            "      <td>NaN</td>\n",
                            "      <td>1</td>\n",
                            "      <td>365</td>\n",
                            "    </tr>\n",
                            "    <tr>\n",
                            "      <th>3</th>\n",
                            "      <td>Cozy Entire Floor of Brownstone</td>\n",
                            "      <td>4869</td>\n",
                            "      <td>LisaRoxanne</td>\n",
                            "      <td>Brooklyn</td>\n",
                            "      <td>Clinton Hill</td>\n",
                            "      <td>40.68514</td>\n",
                            "      <td>-73.95976</td>\n",
                            "      <td>Entire home/apt</td>\n",
                            "      <td>89</td>\n",
                            "      <td>1</td>\n",
                            "      <td>270</td>\n",
                            "      <td>2019-07-05</td>\n",
                            "      <td>4.64</td>\n",
                            "      <td>1</td>\n",
                            "      <td>194</td>\n",
                            "    </tr>\n",
                            "    <tr>\n",
                            "      <th>4</th>\n",
                            "      <td>Entire Apt: Spacious Studio/Loft by central park</td>\n",
                            "      <td>7192</td>\n",
                            "      <td>Laura</td>\n",
                            "      <td>Manhattan</td>\n",
                            "      <td>East Harlem</td>\n",
                            "      <td>40.79851</td>\n",
                            "      <td>-73.94399</td>\n",
                            "      <td>Entire home/apt</td>\n",
                            "      <td>80</td>\n",
                            "      <td>10</td>\n",
                            "      <td>9</td>\n",
                            "      <td>2018-11-19</td>\n",
                            "      <td>0.10</td>\n",
                            "      <td>1</td>\n",
                            "      <td>0</td>\n",
                            "    </tr>\n",
                            "  </tbody>\n",
                            "</table>\n",
                            "</div>"
                        ],
                        "text/plain": [
                            "                                               name  host_id    host_name  \\\n",
                            "0                Clean & quiet apt home by the park     2787         John   \n",
                            "1                             Skylit Midtown Castle     2845     Jennifer   \n",
                            "2               THE VILLAGE OF HARLEM....NEW YORK !     4632    Elisabeth   \n",
                            "3                   Cozy Entire Floor of Brownstone     4869  LisaRoxanne   \n",
                            "4  Entire Apt: Spacious Studio/Loft by central park     7192        Laura   \n",
                            "\n",
                            "  neighbourhood_group neighbourhood  latitude  longitude        room_type  \\\n",
                            "0            Brooklyn    Kensington  40.64749  -73.97237     Private room   \n",
                            "1           Manhattan       Midtown  40.75362  -73.98377  Entire home/apt   \n",
                            "2           Manhattan        Harlem  40.80902  -73.94190     Private room   \n",
                            "3            Brooklyn  Clinton Hill  40.68514  -73.95976  Entire home/apt   \n",
                            "4           Manhattan   East Harlem  40.79851  -73.94399  Entire home/apt   \n",
                            "\n",
                            "   price  minimum_nights  number_of_reviews last_review  reviews_per_month  \\\n",
                            "0    149               1                  9  2018-10-19               0.21   \n",
                            "1    225               1                 45  2019-05-21               0.38   \n",
                            "2    150               3                  0         NaN                NaN   \n",
                            "3     89               1                270  2019-07-05               4.64   \n",
                            "4     80              10                  9  2018-11-19               0.10   \n",
                            "\n",
                            "   calculated_host_listings_count  availability_365  \n",
                            "0                               6               365  \n",
                            "1                               2               355  \n",
                            "2                               1               365  \n",
                            "3                               1               194  \n",
                            "4                               1                 0  "
                        ]
                    },
                    "execution_count": 25,
                    "metadata": {},
                    "output_type": "execute_result"
                }
            ],
            "source": [
                "ds = pd.read_csv('https://raw.githubusercontent.com/4GeeksAcademy/data-preprocessing-project-tutorial/main/AB_NYC_2019.csv').iloc[:,1:]\n",
                "ds.head()"
            ]
        },
        {
            "cell_type": "code",
            "execution_count": 26,
            "metadata": {},
            "outputs": [
                {
                    "data": {
                        "text/plain": [
                            "(48895, 15)"
                        ]
                    },
                    "execution_count": 26,
                    "metadata": {},
                    "output_type": "execute_result"
                }
            ],
            "source": [
                "ds.shape "
            ]
        },
        {
            "cell_type": "code",
            "execution_count": 27,
            "metadata": {},
            "outputs": [
                {
                    "name": "stdout",
                    "output_type": "stream",
                    "text": [
                        "<class 'pandas.core.frame.DataFrame'>\n",
                        "RangeIndex: 48895 entries, 0 to 48894\n",
                        "Data columns (total 15 columns):\n",
                        " #   Column                          Non-Null Count  Dtype  \n",
                        "---  ------                          --------------  -----  \n",
                        " 0   name                            48879 non-null  object \n",
                        " 1   host_id                         48895 non-null  int64  \n",
                        " 2   host_name                       48874 non-null  object \n",
                        " 3   neighbourhood_group             48895 non-null  object \n",
                        " 4   neighbourhood                   48895 non-null  object \n",
                        " 5   latitude                        48895 non-null  float64\n",
                        " 6   longitude                       48895 non-null  float64\n",
                        " 7   room_type                       48895 non-null  object \n",
                        " 8   price                           48895 non-null  int64  \n",
                        " 9   minimum_nights                  48895 non-null  int64  \n",
                        " 10  number_of_reviews               48895 non-null  int64  \n",
                        " 11  last_review                     38843 non-null  object \n",
                        " 12  reviews_per_month               38843 non-null  float64\n",
                        " 13  calculated_host_listings_count  48895 non-null  int64  \n",
                        " 14  availability_365                48895 non-null  int64  \n",
                        "dtypes: float64(3), int64(6), object(6)\n",
                        "memory usage: 5.6+ MB\n"
                    ]
                }
            ],
            "source": [
                "ds.info()"
            ]
        },
        {
            "cell_type": "code",
            "execution_count": 28,
            "metadata": {},
            "outputs": [
                {
                    "data": {
                        "text/plain": [
                            "name                              47905\n",
                            "host_id                           37457\n",
                            "host_name                         11452\n",
                            "neighbourhood_group                   5\n",
                            "neighbourhood                       221\n",
                            "latitude                          19048\n",
                            "longitude                         14718\n",
                            "room_type                             3\n",
                            "price                               674\n",
                            "minimum_nights                      109\n",
                            "number_of_reviews                   394\n",
                            "last_review                        1764\n",
                            "reviews_per_month                   937\n",
                            "calculated_host_listings_count       47\n",
                            "availability_365                    366\n",
                            "dtype: int64"
                        ]
                    },
                    "execution_count": 28,
                    "metadata": {},
                    "output_type": "execute_result"
                }
            ],
            "source": [
                "ds.nunique()"
            ]
        },
        {
            "cell_type": "code",
            "execution_count": 29,
            "metadata": {},
            "outputs": [
                {
                    "name": "stdout",
                    "output_type": "stream",
                    "text": [
                        "0\n"
                    ]
                }
            ],
            "source": [
                "print(ds.duplicated().sum())#comprobación de duplicados "
            ]
        },
        {
            "cell_type": "code",
            "execution_count": 30,
            "metadata": {},
            "outputs": [
                {
                    "data": {
                        "text/plain": [
                            "name                               True\n",
                            "host_id                           False\n",
                            "host_name                          True\n",
                            "neighbourhood_group               False\n",
                            "neighbourhood                     False\n",
                            "latitude                          False\n",
                            "longitude                         False\n",
                            "room_type                         False\n",
                            "price                             False\n",
                            "minimum_nights                    False\n",
                            "number_of_reviews                 False\n",
                            "last_review                        True\n",
                            "reviews_per_month                  True\n",
                            "calculated_host_listings_count    False\n",
                            "availability_365                  False\n",
                            "dtype: bool"
                        ]
                    },
                    "execution_count": 30,
                    "metadata": {},
                    "output_type": "execute_result"
                }
            ],
            "source": [
                "ds.isnull().any(axis=0)"
            ]
        },
        {
            "cell_type": "code",
            "execution_count": 31,
            "metadata": {},
            "outputs": [
                {
                    "data": {
                        "text/plain": [
                            "name                               0.032723\n",
                            "host_id                            0.000000\n",
                            "host_name                          0.042949\n",
                            "neighbourhood_group                0.000000\n",
                            "neighbourhood                      0.000000\n",
                            "latitude                           0.000000\n",
                            "longitude                          0.000000\n",
                            "room_type                          0.000000\n",
                            "price                              0.000000\n",
                            "minimum_nights                     0.000000\n",
                            "number_of_reviews                  0.000000\n",
                            "last_review                       20.558339\n",
                            "reviews_per_month                 20.558339\n",
                            "calculated_host_listings_count     0.000000\n",
                            "availability_365                   0.000000\n",
                            "dtype: float64"
                        ]
                    },
                    "execution_count": 31,
                    "metadata": {},
                    "output_type": "execute_result"
                }
            ],
            "source": [
                "ds.isnull().mean()*100 # Incidencia de los valores perdidos en cada una de las variables"
            ]
        },
        {
            "cell_type": "code",
            "execution_count": 32,
            "metadata": {},
            "outputs": [],
            "source": [
                "ds.drop(columns= ['name', 'host_id', 'host_name'], inplace= True) #Eliminamos columnas inecesarias "
            ]
        },
        {
            "cell_type": "code",
            "execution_count": 34,
            "metadata": {},
            "outputs": [
                {
                    "data": {
                        "text/plain": [
                            "np.float64(20.55833929849678)"
                        ]
                    },
                    "execution_count": 34,
                    "metadata": {},
                    "output_type": "execute_result"
                }
            ],
            "source": [
                "# Comprobamos el porcentaje de casas que contienen valores vacíos\n",
                "ds.isnull().any(axis=1).sum()/len(ds)*100"
            ]
        },
        {
            "cell_type": "code",
            "execution_count": null,
            "metadata": {},
            "outputs": [],
            "source": [
                "msno.matrix(ds)"
            ]
        },
        {
            "cell_type": "code",
            "execution_count": 35,
            "metadata": {},
            "outputs": [],
            "source": [
                "#Creamos una columna binaria para decir que el anuncio es nuevo \n",
                "ds['is_new'] = ds.apply(lambda row: 1 if pd.isnull(row['last_review'])or pd.isnull(row['reviews_per_month']) else 0, axis=1)"
            ]
        },
        {
            "cell_type": "code",
            "execution_count": 36,
            "metadata": {},
            "outputs": [
                {
                    "data": {
                        "text/html": [
                            "<div>\n",
                            "<style scoped>\n",
                            "    .dataframe tbody tr th:only-of-type {\n",
                            "        vertical-align: middle;\n",
                            "    }\n",
                            "\n",
                            "    .dataframe tbody tr th {\n",
                            "        vertical-align: top;\n",
                            "    }\n",
                            "\n",
                            "    .dataframe thead th {\n",
                            "        text-align: right;\n",
                            "    }\n",
                            "</style>\n",
                            "<table border=\"1\" class=\"dataframe\">\n",
                            "  <thead>\n",
                            "    <tr style=\"text-align: right;\">\n",
                            "      <th></th>\n",
                            "      <th>count</th>\n",
                            "      <th>mean</th>\n",
                            "      <th>std</th>\n",
                            "      <th>min</th>\n",
                            "      <th>25%</th>\n",
                            "      <th>50%</th>\n",
                            "      <th>75%</th>\n",
                            "      <th>max</th>\n",
                            "    </tr>\n",
                            "  </thead>\n",
                            "  <tbody>\n",
                            "    <tr>\n",
                            "      <th>latitude</th>\n",
                            "      <td>48895.0</td>\n",
                            "      <td>40.729</td>\n",
                            "      <td>0.055</td>\n",
                            "      <td>40.500</td>\n",
                            "      <td>40.690</td>\n",
                            "      <td>40.723</td>\n",
                            "      <td>40.763</td>\n",
                            "      <td>40.913</td>\n",
                            "    </tr>\n",
                            "    <tr>\n",
                            "      <th>longitude</th>\n",
                            "      <td>48895.0</td>\n",
                            "      <td>-73.952</td>\n",
                            "      <td>0.046</td>\n",
                            "      <td>-74.244</td>\n",
                            "      <td>-73.983</td>\n",
                            "      <td>-73.956</td>\n",
                            "      <td>-73.936</td>\n",
                            "      <td>-73.713</td>\n",
                            "    </tr>\n",
                            "    <tr>\n",
                            "      <th>price</th>\n",
                            "      <td>48895.0</td>\n",
                            "      <td>152.721</td>\n",
                            "      <td>240.154</td>\n",
                            "      <td>0.000</td>\n",
                            "      <td>69.000</td>\n",
                            "      <td>106.000</td>\n",
                            "      <td>175.000</td>\n",
                            "      <td>10000.000</td>\n",
                            "    </tr>\n",
                            "    <tr>\n",
                            "      <th>minimum_nights</th>\n",
                            "      <td>48895.0</td>\n",
                            "      <td>7.030</td>\n",
                            "      <td>20.511</td>\n",
                            "      <td>1.000</td>\n",
                            "      <td>1.000</td>\n",
                            "      <td>3.000</td>\n",
                            "      <td>5.000</td>\n",
                            "      <td>1250.000</td>\n",
                            "    </tr>\n",
                            "    <tr>\n",
                            "      <th>number_of_reviews</th>\n",
                            "      <td>48895.0</td>\n",
                            "      <td>23.274</td>\n",
                            "      <td>44.551</td>\n",
                            "      <td>0.000</td>\n",
                            "      <td>1.000</td>\n",
                            "      <td>5.000</td>\n",
                            "      <td>24.000</td>\n",
                            "      <td>629.000</td>\n",
                            "    </tr>\n",
                            "    <tr>\n",
                            "      <th>reviews_per_month</th>\n",
                            "      <td>38843.0</td>\n",
                            "      <td>1.373</td>\n",
                            "      <td>1.680</td>\n",
                            "      <td>0.010</td>\n",
                            "      <td>0.190</td>\n",
                            "      <td>0.720</td>\n",
                            "      <td>2.020</td>\n",
                            "      <td>58.500</td>\n",
                            "    </tr>\n",
                            "    <tr>\n",
                            "      <th>calculated_host_listings_count</th>\n",
                            "      <td>48895.0</td>\n",
                            "      <td>7.144</td>\n",
                            "      <td>32.953</td>\n",
                            "      <td>1.000</td>\n",
                            "      <td>1.000</td>\n",
                            "      <td>1.000</td>\n",
                            "      <td>2.000</td>\n",
                            "      <td>327.000</td>\n",
                            "    </tr>\n",
                            "    <tr>\n",
                            "      <th>availability_365</th>\n",
                            "      <td>48895.0</td>\n",
                            "      <td>112.781</td>\n",
                            "      <td>131.622</td>\n",
                            "      <td>0.000</td>\n",
                            "      <td>0.000</td>\n",
                            "      <td>45.000</td>\n",
                            "      <td>227.000</td>\n",
                            "      <td>365.000</td>\n",
                            "    </tr>\n",
                            "    <tr>\n",
                            "      <th>is_new</th>\n",
                            "      <td>48895.0</td>\n",
                            "      <td>0.206</td>\n",
                            "      <td>0.404</td>\n",
                            "      <td>0.000</td>\n",
                            "      <td>0.000</td>\n",
                            "      <td>0.000</td>\n",
                            "      <td>0.000</td>\n",
                            "      <td>1.000</td>\n",
                            "    </tr>\n",
                            "  </tbody>\n",
                            "</table>\n",
                            "</div>"
                        ],
                        "text/plain": [
                            "                                  count     mean      std     min     25%  \\\n",
                            "latitude                        48895.0   40.729    0.055  40.500  40.690   \n",
                            "longitude                       48895.0  -73.952    0.046 -74.244 -73.983   \n",
                            "price                           48895.0  152.721  240.154   0.000  69.000   \n",
                            "minimum_nights                  48895.0    7.030   20.511   1.000   1.000   \n",
                            "number_of_reviews               48895.0   23.274   44.551   0.000   1.000   \n",
                            "reviews_per_month               38843.0    1.373    1.680   0.010   0.190   \n",
                            "calculated_host_listings_count  48895.0    7.144   32.953   1.000   1.000   \n",
                            "availability_365                48895.0  112.781  131.622   0.000   0.000   \n",
                            "is_new                          48895.0    0.206    0.404   0.000   0.000   \n",
                            "\n",
                            "                                    50%      75%        max  \n",
                            "latitude                         40.723   40.763     40.913  \n",
                            "longitude                       -73.956  -73.936    -73.713  \n",
                            "price                           106.000  175.000  10000.000  \n",
                            "minimum_nights                    3.000    5.000   1250.000  \n",
                            "number_of_reviews                 5.000   24.000    629.000  \n",
                            "reviews_per_month                 0.720    2.020     58.500  \n",
                            "calculated_host_listings_count    1.000    2.000    327.000  \n",
                            "availability_365                 45.000  227.000    365.000  \n",
                            "is_new                            0.000    0.000      1.000  "
                        ]
                    },
                    "execution_count": 36,
                    "metadata": {},
                    "output_type": "execute_result"
                }
            ],
            "source": [
                "ds.describe().T.round(3)"
            ]
        },
        {
            "cell_type": "code",
            "execution_count": null,
            "metadata": {},
            "outputs": [],
            "source": [
                "# Crear una figura con dos subplots (uno para el histograma y otro para el boxplot)\n",
                "fig, ax = plt.subplots(1, 2, figsize=(10, 5))\n",
                "\n",
                "# Crear un histograma en el primer subplot\n",
                "ax[0].hist(df['PRICE'], bins=20, color='skyblue', edgecolor='black')\n",
                "ax[0].set_title('Histograma de PRICE')\n",
                "ax[0].set_xlabel('Precio')\n",
                "ax[0].set_ylabel('Frecuencia')\n",
                "\n",
                "# Crear un boxplot en el segundo subplot\n",
                "ax[1].boxplot(df['PRICE'], vert=False)\n",
                "ax[1].set_title('Boxplot de PRICE')\n",
                "ax[1].set_xlabel('Precio')\n",
                "\n",
                "# Mostrar la figura\n",
                "plt.tight_layout()\n",
                "plt.show()"
            ]
        },
        {
            "cell_type": "code",
            "execution_count": null,
            "metadata": {},
            "outputs": [],
            "source": []
        },
        {
            "cell_type": "code",
            "execution_count": null,
            "metadata": {},
            "outputs": [],
            "source": [
                "imputador_knn = KNNImputer(n_neighbors=3)\n",
                "ds[['reviews_per_month']] = imputador_knn.fit_transform(df[['reviews_per_month']])"
            ]
        },
        {
            "cell_type": "code",
            "execution_count": null,
            "metadata": {},
            "outputs": [],
            "source": []
        }
    ],
    "metadata": {
        "kernelspec": {
            "display_name": "Python 3.8.13 64-bit ('3.8.13')",
            "language": "python",
            "name": "python3"
        },
        "language_info": {
            "codemirror_mode": {
                "name": "ipython",
                "version": 3
            },
            "file_extension": ".py",
            "mimetype": "text/x-python",
            "name": "python",
            "nbconvert_exporter": "python",
            "pygments_lexer": "ipython3",
            "version": "3.10.12"
        },
        "orig_nbformat": 4,
        "vscode": {
            "interpreter": {
                "hash": "110cc1dee26208153f2972f08a2ad52b6a56238dc66d48e87fb757ef2996db56"
            }
        }
    },
    "nbformat": 4,
    "nbformat_minor": 2
}
